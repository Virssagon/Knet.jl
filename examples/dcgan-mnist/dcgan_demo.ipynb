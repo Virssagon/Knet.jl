{
 "cells": [
  {
   "cell_type": "code",
   "execution_count": 1,
   "metadata": {
    "scrolled": false
   },
   "outputs": [
    {
     "data": {
      "text/plain": [
       "Main.DCGAN"
      ]
     },
     "execution_count": 1,
     "metadata": {},
     "output_type": "execute_result"
    }
   ],
   "source": [
    "using Knet\n",
    "include(\"dcgan.jl\")"
   ]
  },
  {
   "cell_type": "code",
   "execution_count": 2,
   "metadata": {},
   "outputs": [],
   "source": [
    "z = DCGAN.sample_noise(KnetArray{Float32},100,64);"
   ]
  },
  {
   "cell_type": "code",
   "execution_count": 3,
   "metadata": {
    "scrolled": true
   },
   "outputs": [
    {
     "name": "stdout",
     "output_type": "stream",
     "text": [
      "training started...\n"
     ]
    }
   ],
   "source": [
    "wd, wg, md, mg = DCGAN.main(\"--epochs 0 --seed 1\");"
   ]
  },
  {
   "cell_type": "code",
   "execution_count": 4,
   "metadata": {
    "scrolled": false
   },
   "outputs": [
    {
     "data": {
      "image/png": "[encoded data removed]",
      "text/plain": [
       "233×233 reinterpret(Gray{Float64}, ::Array{Float64,2}):\n",
       " Gray{Float64}(1.0)  Gray{Float64}(1.0)       Gray{Float64}(1.0)       …  Gray{Float64}(1.0)       Gray{Float64}(1.0)\n",
       " Gray{Float64}(1.0)  Gray{Float64}(0.502221)  Gray{Float64}(0.502221)     Gray{Float64}(0.502221)  Gray{Float64}(1.0)\n",
       " Gray{Float64}(1.0)  Gray{Float64}(0.502221)  Gray{Float64}(0.502221)     Gray{Float64}(0.502222)  Gray{Float64}(1.0)\n",
       " Gray{Float64}(1.0)  Gray{Float64}(0.502221)  Gray{Float64}(0.502221)     Gray{Float64}(0.502221)  Gray{Float64}(1.0)\n",
       " Gray{Float64}(1.0)  Gray{Float64}(0.502221)  Gray{Float64}(0.502221)     Gray{Float64}(0.502222)  Gray{Float64}(1.0)\n",
       " Gray{Float64}(1.0)  Gray{Float64}(0.502221)  Gray{Float64}(0.502221)  …  Gray{Float64}(0.502221)  Gray{Float64}(1.0)\n",
       " Gray{Float64}(1.0)  Gray{Float64}(0.502221)  Gray{Float64}(0.502222)     Gray{Float64}(0.502221)  Gray{Float64}(1.0)\n",
       " Gray{Float64}(1.0)  Gray{Float64}(0.502221)  Gray{Float64}(0.502221)     Gray{Float64}(0.502221)  Gray{Float64}(1.0)\n",
       " Gray{Float64}(1.0)  Gray{Float64}(0.502221)  Gray{Float64}(0.502222)     Gray{Float64}(0.502222)  Gray{Float64}(1.0)\n",
       " Gray{Float64}(1.0)  Gray{Float64}(0.502221)  Gray{Float64}(0.502221)     Gray{Float64}(0.502221)  Gray{Float64}(1.0)\n",
       " Gray{Float64}(1.0)  Gray{Float64}(0.502221)  Gray{Float64}(0.502222)  …  Gray{Float64}(0.502222)  Gray{Float64}(1.0)\n",
       " Gray{Float64}(1.0)  Gray{Float64}(0.502221)  Gray{Float64}(0.502221)     Gray{Float64}(0.502221)  Gray{Float64}(1.0)\n",
       " Gray{Float64}(1.0)  Gray{Float64}(0.502222)  Gray{Float64}(0.502222)     Gray{Float64}(0.502222)  Gray{Float64}(1.0)\n",
       " ⋮                                                                     ⋱                           \n",
       " Gray{Float64}(1.0)  Gray{Float64}(0.502221)  Gray{Float64}(0.502221)     Gray{Float64}(0.502221)  Gray{Float64}(1.0)\n",
       " Gray{Float64}(1.0)  Gray{Float64}(0.502222)  Gray{Float64}(0.502221)     Gray{Float64}(0.502221)  Gray{Float64}(1.0)\n",
       " Gray{Float64}(1.0)  Gray{Float64}(0.502221)  Gray{Float64}(0.502222)     Gray{Float64}(0.502221)  Gray{Float64}(1.0)\n",
       " Gray{Float64}(1.0)  Gray{Float64}(0.502221)  Gray{Float64}(0.502221)     Gray{Float64}(0.502222)  Gray{Float64}(1.0)\n",
       " Gray{Float64}(1.0)  Gray{Float64}(0.502221)  Gray{Float64}(0.502222)  …  Gray{Float64}(0.502221)  Gray{Float64}(1.0)\n",
       " Gray{Float64}(1.0)  Gray{Float64}(0.502222)  Gray{Float64}(0.502221)     Gray{Float64}(0.502221)  Gray{Float64}(1.0)\n",
       " Gray{Float64}(1.0)  Gray{Float64}(0.502221)  Gray{Float64}(0.502221)     Gray{Float64}(0.502221)  Gray{Float64}(1.0)\n",
       " Gray{Float64}(1.0)  Gray{Float64}(0.502221)  Gray{Float64}(0.502221)     Gray{Float64}(0.502222)  Gray{Float64}(1.0)\n",
       " Gray{Float64}(1.0)  Gray{Float64}(0.502221)  Gray{Float64}(0.502222)     Gray{Float64}(0.502221)  Gray{Float64}(1.0)\n",
       " Gray{Float64}(1.0)  Gray{Float64}(0.502221)  Gray{Float64}(0.502221)  …  Gray{Float64}(0.502221)  Gray{Float64}(1.0)\n",
       " Gray{Float64}(1.0)  Gray{Float64}(0.502221)  Gray{Float64}(0.502221)     Gray{Float64}(0.502221)  Gray{Float64}(1.0)\n",
       " Gray{Float64}(1.0)  Gray{Float64}(1.0)       Gray{Float64}(1.0)          Gray{Float64}(1.0)       Gray{Float64}(1.0)"
      ]
     },
     "metadata": {},
     "output_type": "display_data"
    }
   ],
   "source": [
    "DCGAN.plot_generations(wg, mg; z=z);"
   ]
  },
  {
   "cell_type": "code",
   "execution_count": 5,
   "metadata": {},
   "outputs": [
    {
     "name": "stdout",
     "output_type": "stream",
     "text": [
      "training started...\n"
     ]
    },
    {
     "name": "stderr",
     "output_type": "stream",
     "text": [
      "┣████████████████████┫ [100.00%, 600/600, 00:35/00:35, 17.36i/s] \n"
     ]
    },
    {
     "name": "stdout",
     "output_type": "stream",
     "text": [
      "(:epoch, 1, :dloss, 0.84712666f0, :gloss, 1.2757794f0)\n"
     ]
    },
    {
     "name": "stderr",
     "output_type": "stream",
     "text": [
      "┣████████████████████┫ [100.00%, 600/600, 00:11/00:11, 54.38i/s] \n"
     ]
    },
    {
     "name": "stdout",
     "output_type": "stream",
     "text": [
      "(:epoch, 2, :dloss, 0.7991464f0, :gloss, 1.4329474f0)\n"
     ]
    },
    {
     "name": "stderr",
     "output_type": "stream",
     "text": [
      "┣████████████████████┫ [100.00%, 600/600, 00:11/00:11, 55.84i/s] \n"
     ]
    },
    {
     "name": "stdout",
     "output_type": "stream",
     "text": [
      "(:epoch, 3, :dloss, 0.85160375f0, :gloss, 1.374077f0)\n"
     ]
    },
    {
     "name": "stderr",
     "output_type": "stream",
     "text": [
      "┣████████████████████┫ [100.00%, 600/600, 00:11/00:11, 55.66i/s] \n"
     ]
    },
    {
     "name": "stdout",
     "output_type": "stream",
     "text": [
      "(:epoch, 4, :dloss, 0.8214035f0, :gloss, 1.4378794f0)\n"
     ]
    },
    {
     "name": "stderr",
     "output_type": "stream",
     "text": [
      "┣████████████████████┫ [100.00%, 600/600, 00:11/00:11, 54.98i/s] \n"
     ]
    },
    {
     "name": "stdout",
     "output_type": "stream",
     "text": [
      "(:epoch, 5, :dloss, 0.79875445f0, :gloss, 1.4880217f0)\n"
     ]
    },
    {
     "name": "stderr",
     "output_type": "stream",
     "text": [
      "┣████████████████████┫ [100.00%, 600/600, 00:11/00:11, 54.87i/s] \n"
     ]
    },
    {
     "name": "stdout",
     "output_type": "stream",
     "text": [
      "(:epoch, 6, :dloss, 0.7830885f0, :gloss, 1.5254846f0)\n"
     ]
    },
    {
     "name": "stderr",
     "output_type": "stream",
     "text": [
      "┣████████████████████┫ [100.00%, 600/600, 00:11/00:11, 53.17i/s] \n"
     ]
    },
    {
     "name": "stdout",
     "output_type": "stream",
     "text": [
      "(:epoch, 7, :dloss, 0.7588902f0, :gloss, 1.5633898f0)\n"
     ]
    },
    {
     "name": "stderr",
     "output_type": "stream",
     "text": [
      "┣████████████████████┫ [100.00%, 600/600, 00:11/00:11, 55.31i/s] \n"
     ]
    },
    {
     "name": "stdout",
     "output_type": "stream",
     "text": [
      "(:epoch, 8, :dloss, 0.7438721f0, :gloss, 1.6127883f0)\n"
     ]
    },
    {
     "name": "stderr",
     "output_type": "stream",
     "text": [
      "┣████████████████████┫ [100.00%, 600/600, 00:11/00:11, 53.42i/s] \n"
     ]
    },
    {
     "name": "stdout",
     "output_type": "stream",
     "text": [
      "(:epoch, 9, :dloss, 0.72154135f0, :gloss, 1.6764766f0)\n"
     ]
    },
    {
     "name": "stderr",
     "output_type": "stream",
     "text": [
      "┣████████████████████┫ [100.00%, 600/600, 00:11/00:11, 54.42i/s] \n"
     ]
    },
    {
     "name": "stdout",
     "output_type": "stream",
     "text": [
      "(:epoch, 10, :dloss, 0.70294815f0, :gloss, 1.7254875f0)\n"
     ]
    }
   ],
   "source": [
    "wd, wg, md, mg = DCGAN.main(\"--epochs 10 --seed 1\");"
   ]
  },
  {
   "cell_type": "code",
   "execution_count": 6,
   "metadata": {},
   "outputs": [
    {
     "data": {
      "image/png": "[encoded data removed]",
      "text/plain": [
       "233×233 reinterpret(Gray{Float64}, ::Array{Float64,2}):\n",
       " Gray{Float64}(1.0)  Gray{Float64}(1.0)         Gray{Float64}(1.0)          …  Gray{Float64}(1.0)          Gray{Float64}(1.0)\n",
       " Gray{Float64}(1.0)  Gray{Float64}(0.110921)    Gray{Float64}(0.0600011)       Gray{Float64}(0.105835)     Gray{Float64}(1.0)\n",
       " Gray{Float64}(1.0)  Gray{Float64}(0.0589436)   Gray{Float64}(0.0124256)       Gray{Float64}(0.0304795)    Gray{Float64}(1.0)\n",
       " Gray{Float64}(1.0)  Gray{Float64}(0.0151955)   Gray{Float64}(0.0030216)       Gray{Float64}(0.0107774)    Gray{Float64}(1.0)\n",
       " Gray{Float64}(1.0)  Gray{Float64}(0.0120051)   Gray{Float64}(0.00382745)      Gray{Float64}(0.00928912)   Gray{Float64}(1.0)\n",
       " Gray{Float64}(1.0)  Gray{Float64}(0.00506595)  Gray{Float64}(0.000931203)  …  Gray{Float64}(0.00305831)   Gray{Float64}(1.0)\n",
       " Gray{Float64}(1.0)  Gray{Float64}(0.00677243)  Gray{Float64}(0.000589162)     Gray{Float64}(0.00168595)   Gray{Float64}(1.0)\n",
       " Gray{Float64}(1.0)  Gray{Float64}(0.00298226)  Gray{Float64}(0.000493735)     Gray{Float64}(0.00107896)   Gray{Float64}(1.0)\n",
       " Gray{Float64}(1.0)  Gray{Float64}(0.00382707)  Gray{Float64}(0.00036487)      Gray{Float64}(0.00155389)   Gray{Float64}(1.0)\n",
       " Gray{Float64}(1.0)  Gray{Float64}(0.0026136)   Gray{Float64}(0.000144213)     Gray{Float64}(0.00206372)   Gray{Float64}(1.0)\n",
       " Gray{Float64}(1.0)  Gray{Float64}(0.00443944)  Gray{Float64}(0.000246733)  …  Gray{Float64}(0.00116792)   Gray{Float64}(1.0)\n",
       " Gray{Float64}(1.0)  Gray{Float64}(0.00456896)  Gray{Float64}(0.000403643)     Gray{Float64}(0.000259548)  Gray{Float64}(1.0)\n",
       " Gray{Float64}(1.0)  Gray{Float64}(0.0071573)   Gray{Float64}(0.000530899)     Gray{Float64}(0.000198156)  Gray{Float64}(1.0)\n",
       " ⋮                                                                          ⋱                              \n",
       " Gray{Float64}(1.0)  Gray{Float64}(0.00301215)  Gray{Float64}(0.000146419)     Gray{Float64}(0.00887951)   Gray{Float64}(1.0)\n",
       " Gray{Float64}(1.0)  Gray{Float64}(0.00330466)  Gray{Float64}(0.000127435)     Gray{Float64}(0.0112918)    Gray{Float64}(1.0)\n",
       " Gray{Float64}(1.0)  Gray{Float64}(0.00538364)  Gray{Float64}(0.000229239)     Gray{Float64}(0.0131411)    Gray{Float64}(1.0)\n",
       " Gray{Float64}(1.0)  Gray{Float64}(0.00444984)  Gray{Float64}(0.000163943)     Gray{Float64}(0.00851318)   Gray{Float64}(1.0)\n",
       " Gray{Float64}(1.0)  Gray{Float64}(0.00607625)  Gray{Float64}(0.000321388)  …  Gray{Float64}(0.00398403)   Gray{Float64}(1.0)\n",
       " Gray{Float64}(1.0)  Gray{Float64}(0.0057869)   Gray{Float64}(0.000476778)     Gray{Float64}(0.0013954)    Gray{Float64}(1.0)\n",
       " Gray{Float64}(1.0)  Gray{Float64}(0.0061709)   Gray{Float64}(0.00039655)      Gray{Float64}(0.000637114)  Gray{Float64}(1.0)\n",
       " Gray{Float64}(1.0)  Gray{Float64}(0.00825152)  Gray{Float64}(0.000499696)     Gray{Float64}(0.00103983)   Gray{Float64}(1.0)\n",
       " Gray{Float64}(1.0)  Gray{Float64}(0.0152274)   Gray{Float64}(0.00139588)      Gray{Float64}(0.00459054)   Gray{Float64}(1.0)\n",
       " Gray{Float64}(1.0)  Gray{Float64}(0.0285893)   Gray{Float64}(0.00420454)   …  Gray{Float64}(0.0338144)    Gray{Float64}(1.0)\n",
       " Gray{Float64}(1.0)  Gray{Float64}(0.0707422)   Gray{Float64}(0.0160548)       Gray{Float64}(0.109667)     Gray{Float64}(1.0)\n",
       " Gray{Float64}(1.0)  Gray{Float64}(1.0)         Gray{Float64}(1.0)             Gray{Float64}(1.0)          Gray{Float64}(1.0)"
      ]
     },
     "metadata": {},
     "output_type": "display_data"
    }
   ],
   "source": [
    "DCGAN.plot_generations(wg, mg; z=z)"
   ]
  }
 ],
 "metadata": {
  "@webio": {
   "lastCommId": null,
   "lastKernelId": null
  },
  "kernelspec": {
   "display_name": "Julia 1.5.3",
   "language": "julia",
   "name": "julia-1.5"
  },
  "language_info": {
   "file_extension": ".jl",
   "mimetype": "application/julia",
   "name": "julia",
   "version": "1.5.3"
  }
 },
 "nbformat": 4,
 "nbformat_minor": 2
}
