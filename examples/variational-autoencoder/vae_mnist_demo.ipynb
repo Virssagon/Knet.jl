{
 "cells": [
  {
   "cell_type": "code",
   "execution_count": 1,
   "metadata": {
    "scrolled": true
   },
   "outputs": [
    {
     "data": {
      "text/plain": [
       "Main.VAE"
      ]
     },
     "execution_count": 1,
     "metadata": {},
     "output_type": "execute_result"
    }
   ],
   "source": [
    "include(\"vae_mnist.jl\")"
   ]
  },
  {
   "cell_type": "code",
   "execution_count": 2,
   "metadata": {},
   "outputs": [
    {
     "name": "stderr",
     "output_type": "stream",
     "text": [
      "┌ Info: using Knet.KnetArrays.KnetArray{Float32,N} where N\n",
      "└ @ Main.VAE /scratch/users/dyuret/examples/variational-autoencoder/vae_mnist.jl:124\n",
      "┌ Warning: optimizers is deprecated, use sgd, adam etc. instead.\n",
      "└ @ Knet.Train20 /userfiles/dyuret/.julia/dev/Knet/src/train20/update.jl:598\n"
     ]
    },
    {
     "name": "stdout",
     "output_type": "stream",
     "text": [
      "(:epoch, 0, :trn, 0.7053912f0, :tst, 0.7054187f0)\n",
      "  0.000004 seconds (1 allocation: 32 bytes)\n"
     ]
    }
   ],
   "source": [
    "# obtain a non-trained network\n",
    "θ, ϕ = VAE.main(\"--infotime 10 --seed 1 --epochs 0\");"
   ]
  },
  {
   "cell_type": "code",
   "execution_count": 3,
   "metadata": {},
   "outputs": [
    {
     "data": {
      "image/png": "[encoded data removed]",
      "text/plain": [
       "146×146 reinterpret(Gray{Float64}, ::Array{Float64,2}):\n",
       " Gray{Float64}(1.0)  Gray{Float64}(1.0)       Gray{Float64}(1.0)       …  Gray{Float64}(1.0)       Gray{Float64}(1.0)\n",
       " Gray{Float64}(1.0)  Gray{Float64}(0.397776)  Gray{Float64}(0.479089)     Gray{Float64}(0.601338)  Gray{Float64}(1.0)\n",
       " Gray{Float64}(1.0)  Gray{Float64}(0.421054)  Gray{Float64}(0.484862)     Gray{Float64}(0.450781)  Gray{Float64}(1.0)\n",
       " Gray{Float64}(1.0)  Gray{Float64}(0.547144)  Gray{Float64}(0.443641)     Gray{Float64}(0.458544)  Gray{Float64}(1.0)\n",
       " Gray{Float64}(1.0)  Gray{Float64}(0.49504)   Gray{Float64}(0.585485)     Gray{Float64}(0.462687)  Gray{Float64}(1.0)\n",
       " Gray{Float64}(1.0)  Gray{Float64}(0.471404)  Gray{Float64}(0.490611)  …  Gray{Float64}(0.530481)  Gray{Float64}(1.0)\n",
       " Gray{Float64}(1.0)  Gray{Float64}(0.55754)   Gray{Float64}(0.529634)     Gray{Float64}(0.553836)  Gray{Float64}(1.0)\n",
       " Gray{Float64}(1.0)  Gray{Float64}(0.581541)  Gray{Float64}(0.604919)     Gray{Float64}(0.523119)  Gray{Float64}(1.0)\n",
       " Gray{Float64}(1.0)  Gray{Float64}(0.413261)  Gray{Float64}(0.432548)     Gray{Float64}(0.606645)  Gray{Float64}(1.0)\n",
       " Gray{Float64}(1.0)  Gray{Float64}(0.474683)  Gray{Float64}(0.45414)      Gray{Float64}(0.588718)  Gray{Float64}(1.0)\n",
       " Gray{Float64}(1.0)  Gray{Float64}(0.441739)  Gray{Float64}(0.54032)   …  Gray{Float64}(0.431566)  Gray{Float64}(1.0)\n",
       " Gray{Float64}(1.0)  Gray{Float64}(0.55176)   Gray{Float64}(0.531156)     Gray{Float64}(0.413923)  Gray{Float64}(1.0)\n",
       " Gray{Float64}(1.0)  Gray{Float64}(0.607207)  Gray{Float64}(0.559232)     Gray{Float64}(0.511682)  Gray{Float64}(1.0)\n",
       " ⋮                                                                     ⋱                           ⋮\n",
       " Gray{Float64}(1.0)  Gray{Float64}(0.511945)  Gray{Float64}(0.462598)     Gray{Float64}(0.425019)  Gray{Float64}(1.0)\n",
       " Gray{Float64}(1.0)  Gray{Float64}(0.506907)  Gray{Float64}(0.442552)  …  Gray{Float64}(0.556229)  Gray{Float64}(1.0)\n",
       " Gray{Float64}(1.0)  Gray{Float64}(0.490444)  Gray{Float64}(0.468246)     Gray{Float64}(0.52389)   Gray{Float64}(1.0)\n",
       " Gray{Float64}(1.0)  Gray{Float64}(0.467747)  Gray{Float64}(0.477668)     Gray{Float64}(0.553346)  Gray{Float64}(1.0)\n",
       " Gray{Float64}(1.0)  Gray{Float64}(0.398788)  Gray{Float64}(0.509192)     Gray{Float64}(0.431042)  Gray{Float64}(1.0)\n",
       " Gray{Float64}(1.0)  Gray{Float64}(0.492141)  Gray{Float64}(0.421815)     Gray{Float64}(0.435226)  Gray{Float64}(1.0)\n",
       " Gray{Float64}(1.0)  Gray{Float64}(0.491744)  Gray{Float64}(0.49149)   …  Gray{Float64}(0.48261)   Gray{Float64}(1.0)\n",
       " Gray{Float64}(1.0)  Gray{Float64}(0.49096)   Gray{Float64}(0.441763)     Gray{Float64}(0.648821)  Gray{Float64}(1.0)\n",
       " Gray{Float64}(1.0)  Gray{Float64}(0.460516)  Gray{Float64}(0.481139)     Gray{Float64}(0.423675)  Gray{Float64}(1.0)\n",
       " Gray{Float64}(1.0)  Gray{Float64}(0.530963)  Gray{Float64}(0.483976)     Gray{Float64}(0.37112)   Gray{Float64}(1.0)\n",
       " Gray{Float64}(1.0)  Gray{Float64}(0.551049)  Gray{Float64}(0.488064)     Gray{Float64}(0.481845)  Gray{Float64}(1.0)\n",
       " Gray{Float64}(1.0)  Gray{Float64}(1.0)       Gray{Float64}(1.0)       …  Gray{Float64}(1.0)       Gray{Float64}(1.0)"
      ]
     },
     "metadata": {},
     "output_type": "display_data"
    }
   ],
   "source": [
    "# generate examples with the non-trained network\n",
    "VAE.plot_dream(θ);"
   ]
  },
  {
   "cell_type": "code",
   "execution_count": 4,
   "metadata": {},
   "outputs": [
    {
     "name": "stderr",
     "output_type": "stream",
     "text": [
      "┌ Info: using Knet.KnetArrays.KnetArray{Float32,N} where N\n",
      "└ @ Main.VAE /scratch/users/dyuret/examples/variational-autoencoder/vae_mnist.jl:124\n"
     ]
    },
    {
     "name": "stdout",
     "output_type": "stream",
     "text": [
      "(:epoch, 0, :trn, 0.7053912f0, :tst, 0.7054187f0)\n",
      " 15.970154 seconds (35.88 M allocations: 1.967 GiB, 4.92% gc time)\n",
      "  1.422316 seconds (3.24 M allocations: 320.086 MiB, 5.16% gc time)\n",
      "  1.202788 seconds (3.22 M allocations: 323.049 MiB, 5.57% gc time)\n",
      "  1.114373 seconds (3.10 M allocations: 316.629 MiB, 2.91% gc time)\n",
      "  1.227980 seconds (3.21 M allocations: 323.103 MiB, 6.77% gc time)\n",
      "  1.208325 seconds (3.23 M allocations: 320.267 MiB, 5.47% gc time)\n",
      "  1.106742 seconds (3.10 M allocations: 319.883 MiB, 2.94% gc time)\n",
      "  1.192602 seconds (3.22 M allocations: 323.269 MiB, 5.53% gc time)\n",
      "  1.182460 seconds (3.22 M allocations: 319.074 MiB, 5.57% gc time)\n",
      "  1.112242 seconds (3.09 M allocations: 322.490 MiB, 2.93% gc time)\n",
      "(:epoch, 10, :trn, 0.13503909f0, :tst, 0.13492692f0)\n",
      "  1.123450 seconds (3.07 M allocations: 316.444 MiB, 2.24% gc time)\n",
      "  1.196164 seconds (3.22 M allocations: 322.717 MiB, 6.17% gc time)\n",
      "  1.186461 seconds (3.22 M allocations: 319.073 MiB, 5.53% gc time)\n",
      "  1.143814 seconds (3.10 M allocations: 323.151 MiB, 2.87% gc time)\n",
      "  1.172357 seconds (3.22 M allocations: 318.932 MiB, 5.59% gc time)\n",
      "  1.188004 seconds (3.22 M allocations: 319.252 MiB, 5.38% gc time)\n",
      "  1.135815 seconds (3.10 M allocations: 320.235 MiB, 2.93% gc time)\n",
      "  1.178044 seconds (3.22 M allocations: 325.481 MiB, 5.63% gc time)\n",
      "  1.187740 seconds (3.22 M allocations: 318.801 MiB, 5.55% gc time)\n",
      "  1.102883 seconds (3.09 M allocations: 316.930 MiB, 2.89% gc time)\n",
      "(:epoch, 20, :trn, 0.13239309f0, :tst, 0.13233948f0)\n",
      "  1.100176 seconds (3.09 M allocations: 319.940 MiB, 2.62% gc time)\n",
      "  1.213176 seconds (3.22 M allocations: 320.147 MiB, 5.35% gc time)\n",
      "  1.104950 seconds (3.10 M allocations: 319.553 MiB, 2.91% gc time)\n",
      "  1.180878 seconds (3.22 M allocations: 324.796 MiB, 5.49% gc time)\n",
      "  1.202690 seconds (3.22 M allocations: 319.471 MiB, 5.58% gc time)\n",
      "  1.097914 seconds (3.10 M allocations: 316.001 MiB, 2.87% gc time)\n",
      "  1.173638 seconds (3.22 M allocations: 323.703 MiB, 5.38% gc time)\n",
      "  1.178581 seconds (3.22 M allocations: 324.859 MiB, 5.48% gc time)\n",
      "  1.105281 seconds (3.10 M allocations: 316.865 MiB, 2.94% gc time)\n",
      "  1.174219 seconds (3.22 M allocations: 318.737 MiB, 5.49% gc time)\n",
      "(:epoch, 30, :trn, 0.13117327f0, :tst, 0.13129424f0)\n",
      "  1.157998 seconds (3.15 M allocations: 320.856 MiB, 3.93% gc time)\n",
      "  1.185611 seconds (3.22 M allocations: 325.443 MiB, 5.53% gc time)\n",
      "  1.119881 seconds (3.10 M allocations: 316.411 MiB, 2.95% gc time)\n",
      "  1.185932 seconds (3.22 M allocations: 319.110 MiB, 5.43% gc time)\n",
      "  1.180210 seconds (3.22 M allocations: 323.180 MiB, 5.45% gc time)\n",
      "  1.112374 seconds (3.09 M allocations: 316.692 MiB, 2.88% gc time)\n",
      "  1.218786 seconds (3.22 M allocations: 325.052 MiB, 5.42% gc time)\n",
      "  1.166902 seconds (3.10 M allocations: 316.852 MiB, 2.88% gc time)\n",
      "  1.217517 seconds (3.22 M allocations: 323.026 MiB, 5.19% gc time)\n",
      "  1.174565 seconds (3.22 M allocations: 319.250 MiB, 5.46% gc time)\n",
      "(:epoch, 40, :trn, 0.13044706f0, :tst, 0.130622f0)\n",
      "  1.150991 seconds (3.17 M allocations: 322.380 MiB, 4.30% gc time)\n",
      "  1.128833 seconds (3.10 M allocations: 320.905 MiB, 2.91% gc time)\n",
      "  1.186970 seconds (3.22 M allocations: 319.223 MiB, 5.46% gc time)\n",
      "  1.180997 seconds (3.22 M allocations: 324.936 MiB, 5.52% gc time)\n",
      "  1.105943 seconds (3.10 M allocations: 316.931 MiB, 2.95% gc time)\n",
      "  1.173809 seconds (3.22 M allocations: 319.541 MiB, 5.38% gc time)\n",
      "  1.212805 seconds (3.22 M allocations: 322.538 MiB, 5.71% gc time)\n",
      "  1.112965 seconds (3.09 M allocations: 322.178 MiB, 2.95% gc time)\n",
      "  1.176033 seconds (3.22 M allocations: 319.419 MiB, 5.53% gc time)\n",
      "  1.134396 seconds (3.10 M allocations: 316.315 MiB, 2.84% gc time)\n",
      "(:epoch, 50, :trn, 0.12970512f0, :tst, 0.12989002f0)\n",
      "  1.164404 seconds (3.19 M allocations: 322.802 MiB, 4.71% gc time)\n",
      "  1.107030 seconds (3.09 M allocations: 321.276 MiB, 2.90% gc time)\n",
      "  1.178883 seconds (3.22 M allocations: 318.470 MiB, 5.50% gc time)\n",
      "  1.115002 seconds (3.10 M allocations: 323.273 MiB, 2.93% gc time)\n",
      "  1.193907 seconds (3.22 M allocations: 318.371 MiB, 5.54% gc time)\n",
      "  1.222049 seconds (3.22 M allocations: 320.436 MiB, 5.41% gc time)\n",
      "  1.099838 seconds (3.10 M allocations: 319.533 MiB, 2.92% gc time)\n",
      "  1.196905 seconds (3.22 M allocations: 325.432 MiB, 5.45% gc time)\n",
      "  1.202652 seconds (3.22 M allocations: 318.873 MiB, 5.49% gc time)\n",
      "  1.105303 seconds (3.10 M allocations: 316.549 MiB, 2.94% gc time)\n",
      "(:epoch, 60, :trn, 0.12938468f0, :tst, 0.1297097f0)\n",
      "  1.102108 seconds (3.08 M allocations: 319.553 MiB, 2.41% gc time)\n",
      "  1.168184 seconds (3.22 M allocations: 319.836 MiB, 5.46% gc time)\n",
      "  1.183626 seconds (3.22 M allocations: 322.641 MiB, 5.50% gc time)\n",
      "  1.151958 seconds (3.09 M allocations: 322.191 MiB, 2.90% gc time)\n",
      "  1.170348 seconds (3.22 M allocations: 319.727 MiB, 5.57% gc time)\n",
      "  1.109418 seconds (3.10 M allocations: 315.947 MiB, 2.84% gc time)\n",
      "  1.213011 seconds (3.22 M allocations: 323.280 MiB, 5.35% gc time)\n",
      "  1.204699 seconds (3.22 M allocations: 325.255 MiB, 5.80% gc time)\n",
      "  1.120893 seconds (3.10 M allocations: 316.509 MiB, 2.95% gc time)\n",
      "  1.175371 seconds (3.22 M allocations: 319.182 MiB, 5.41% gc time)\n",
      "(:epoch, 70, :trn, 0.12910375f0, :tst, 0.1295688f0)\n",
      "  1.132639 seconds (3.15 M allocations: 320.745 MiB, 3.84% gc time)\n",
      "  1.221768 seconds (3.22 M allocations: 325.467 MiB, 6.26% gc time)\n",
      "  1.099668 seconds (3.10 M allocations: 316.259 MiB, 3.00% gc time)\n",
      "  1.174003 seconds (3.22 M allocations: 318.851 MiB, 5.45% gc time)\n",
      "  1.215392 seconds (3.22 M allocations: 323.582 MiB, 5.37% gc time)\n",
      "  1.111251 seconds (3.10 M allocations: 316.793 MiB, 2.90% gc time)\n",
      "  1.205159 seconds (3.22 M allocations: 325.130 MiB, 6.38% gc time)\n",
      "  1.174972 seconds (3.22 M allocations: 318.901 MiB, 5.45% gc time)\n",
      "  1.106105 seconds (3.09 M allocations: 320.306 MiB, 2.82% gc time)\n",
      "  1.171594 seconds (3.22 M allocations: 319.543 MiB, 5.48% gc time)\n",
      "(:epoch, 80, :trn, 0.12874113f0, :tst, 0.12906483f0)\n",
      "  1.175916 seconds (3.16 M allocations: 322.301 MiB, 4.09% gc time)\n",
      "  1.100300 seconds (3.10 M allocations: 321.035 MiB, 2.93% gc time)\n",
      "  1.183814 seconds (3.22 M allocations: 319.121 MiB, 5.44% gc time)\n",
      "  1.203243 seconds (3.22 M allocations: 325.118 MiB, 5.50% gc time)\n",
      "  1.106583 seconds (3.10 M allocations: 316.626 MiB, 2.96% gc time)\n",
      "  1.175135 seconds (3.22 M allocations: 322.887 MiB, 5.33% gc time)\n",
      "  1.170932 seconds (3.22 M allocations: 319.447 MiB, 5.45% gc time)\n",
      "  1.116555 seconds (3.10 M allocations: 322.374 MiB, 2.93% gc time)\n",
      "  1.194246 seconds (3.22 M allocations: 319.517 MiB, 5.48% gc time)\n",
      "  1.177079 seconds (3.22 M allocations: 318.697 MiB, 5.44% gc time)\n",
      "(:epoch, 90, :trn, 0.12837693f0, :tst, 0.12879246f0)\n",
      "  1.289897 seconds (3.18 M allocations: 322.865 MiB, 4.18% gc time)\n",
      "  1.131897 seconds (3.10 M allocations: 320.389 MiB, 2.91% gc time)\n",
      "  1.187062 seconds (3.22 M allocations: 319.061 MiB, 5.83% gc time)\n",
      "  1.181230 seconds (3.22 M allocations: 325.128 MiB, 5.51% gc time)\n",
      "  1.105366 seconds (3.09 M allocations: 316.987 MiB, 2.96% gc time)\n",
      "  1.172035 seconds (3.22 M allocations: 319.659 MiB, 5.42% gc time)\n",
      "  1.131529 seconds (3.10 M allocations: 319.963 MiB, 2.83% gc time)\n",
      "  1.181958 seconds (3.22 M allocations: 325.191 MiB, 5.60% gc time)\n",
      "  1.171477 seconds (3.22 M allocations: 318.900 MiB, 5.52% gc time)\n",
      "  1.119653 seconds (3.10 M allocations: 316.993 MiB, 2.83% gc time)\n",
      "(:epoch, 100, :trn, 0.12806758f0, :tst, 0.12864676f0)\n",
      "134.986559 seconds (355.23 M allocations: 35.145 GiB, 4.69% gc time)\n"
     ]
    }
   ],
   "source": [
    "# train a VAE network for 100 epochs\n",
    "θ, ϕ = VAE.main(\"--infotime 10 --seed 1 --epochs 100\"); # 184s, 0.12784874f0, 0.128488f0"
   ]
  },
  {
   "cell_type": "code",
   "execution_count": 5,
   "metadata": {},
   "outputs": [
    {
     "data": {
      "image/png": "[encoded data removed]",
      "text/plain": [
       "146×146 reinterpret(Gray{Float64}, ::Array{Float64,2}):\n",
       " Gray{Float64}(1.0)  Gray{Float64}(1.0)          Gray{Float64}(1.0)          …  Gray{Float64}(1.0)          Gray{Float64}(1.0)\n",
       " Gray{Float64}(1.0)  Gray{Float64}(4.64976e-8)   Gray{Float64}(1.44488e-7)      Gray{Float64}(1.09318e-7)   Gray{Float64}(1.0)\n",
       " Gray{Float64}(1.0)  Gray{Float64}(7.24009e-8)   Gray{Float64}(9.97295e-8)      Gray{Float64}(5.41343e-8)   Gray{Float64}(1.0)\n",
       " Gray{Float64}(1.0)  Gray{Float64}(8.80278e-8)   Gray{Float64}(7.20617e-8)      Gray{Float64}(1.17559e-7)   Gray{Float64}(1.0)\n",
       " Gray{Float64}(1.0)  Gray{Float64}(6.42708e-8)   Gray{Float64}(5.57009e-8)      Gray{Float64}(4.38939e-8)   Gray{Float64}(1.0)\n",
       " Gray{Float64}(1.0)  Gray{Float64}(7.12515e-8)   Gray{Float64}(5.06898e-9)   …  Gray{Float64}(4.37126e-10)  Gray{Float64}(1.0)\n",
       " Gray{Float64}(1.0)  Gray{Float64}(6.12167e-8)   Gray{Float64}(8.62439e-8)      Gray{Float64}(2.25818e-11)  Gray{Float64}(1.0)\n",
       " Gray{Float64}(1.0)  Gray{Float64}(2.48928e-8)   Gray{Float64}(8.86094e-11)     Gray{Float64}(1.6656e-10)   Gray{Float64}(1.0)\n",
       " Gray{Float64}(1.0)  Gray{Float64}(2.71707e-11)  Gray{Float64}(1.01778e-7)      Gray{Float64}(2.2875e-9)    Gray{Float64}(1.0)\n",
       " Gray{Float64}(1.0)  Gray{Float64}(4.74425e-14)  Gray{Float64}(3.87796e-8)      Gray{Float64}(1.74434e-10)  Gray{Float64}(1.0)\n",
       " Gray{Float64}(1.0)  Gray{Float64}(1.15442e-11)  Gray{Float64}(3.35261e-7)   …  Gray{Float64}(5.97625e-12)  Gray{Float64}(1.0)\n",
       " Gray{Float64}(1.0)  Gray{Float64}(3.06454e-13)  Gray{Float64}(3.21073e-7)      Gray{Float64}(4.30296e-14)  Gray{Float64}(1.0)\n",
       " Gray{Float64}(1.0)  Gray{Float64}(5.46904e-12)  Gray{Float64}(9.11391e-7)      Gray{Float64}(1.08812e-13)  Gray{Float64}(1.0)\n",
       " ⋮                                                                           ⋱                              ⋮\n",
       " Gray{Float64}(1.0)  Gray{Float64}(9.47365e-7)   Gray{Float64}(3.55738e-6)      Gray{Float64}(4.35462e-8)   Gray{Float64}(1.0)\n",
       " Gray{Float64}(1.0)  Gray{Float64}(5.78192e-7)   Gray{Float64}(3.59528e-6)   …  Gray{Float64}(4.16028e-6)   Gray{Float64}(1.0)\n",
       " Gray{Float64}(1.0)  Gray{Float64}(1.23158e-8)   Gray{Float64}(9.56602e-6)      Gray{Float64}(3.55452e-6)   Gray{Float64}(1.0)\n",
       " Gray{Float64}(1.0)  Gray{Float64}(3.07162e-7)   Gray{Float64}(9.08136e-7)      Gray{Float64}(3.95629e-11)  Gray{Float64}(1.0)\n",
       " Gray{Float64}(1.0)  Gray{Float64}(4.15436e-7)   Gray{Float64}(2.66345e-7)      Gray{Float64}(3.58084e-15)  Gray{Float64}(1.0)\n",
       " Gray{Float64}(1.0)  Gray{Float64}(4.61134e-7)   Gray{Float64}(8.52187e-5)      Gray{Float64}(8.72234e-18)  Gray{Float64}(1.0)\n",
       " Gray{Float64}(1.0)  Gray{Float64}(3.43692e-7)   Gray{Float64}(4.14736e-7)   …  Gray{Float64}(2.8549e-8)    Gray{Float64}(1.0)\n",
       " Gray{Float64}(1.0)  Gray{Float64}(3.06218e-7)   Gray{Float64}(2.20296e-7)      Gray{Float64}(3.09376e-8)   Gray{Float64}(1.0)\n",
       " Gray{Float64}(1.0)  Gray{Float64}(2.45914e-7)   Gray{Float64}(2.80597e-7)      Gray{Float64}(2.94432e-8)   Gray{Float64}(1.0)\n",
       " Gray{Float64}(1.0)  Gray{Float64}(1.23697e-7)   Gray{Float64}(3.13826e-7)      Gray{Float64}(3.2831e-8)    Gray{Float64}(1.0)\n",
       " Gray{Float64}(1.0)  Gray{Float64}(3.72873e-7)   Gray{Float64}(2.74169e-7)      Gray{Float64}(1.27398e-8)   Gray{Float64}(1.0)\n",
       " Gray{Float64}(1.0)  Gray{Float64}(1.0)          Gray{Float64}(1.0)          …  Gray{Float64}(1.0)          Gray{Float64}(1.0)"
      ]
     },
     "metadata": {},
     "output_type": "display_data"
    }
   ],
   "source": [
    "# generate examples with the trained network\n",
    "VAE.plot_dream(θ);"
   ]
  }
 ],
 "metadata": {
  "@webio": {
   "lastCommId": null,
   "lastKernelId": null
  },
  "kernelspec": {
   "display_name": "Julia 1.5.3",
   "language": "julia",
   "name": "julia-1.5"
  },
  "language_info": {
   "file_extension": ".jl",
   "mimetype": "application/julia",
   "name": "julia",
   "version": "1.5.3"
  }
 },
 "nbformat": 4,
 "nbformat_minor": 2
}
